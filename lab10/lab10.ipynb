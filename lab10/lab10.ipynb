{
 "cells": [
  {
   "cell_type": "markdown",
   "metadata": {},
   "source": [
    "# Laboratorium 10"
   ]
  },
  {
   "cell_type": "markdown",
   "metadata": {},
   "source": [
    "## Import zależności"
   ]
  },
  {
   "cell_type": "code",
   "execution_count": 46,
   "metadata": {},
   "outputs": [],
   "source": [
    "from IPython.display import Markdown as md\n",
    "import matplotlib.pyplot as plt\n",
    "import numpy as np "
   ]
  },
  {
   "cell_type": "markdown",
   "metadata": {},
   "source": [
    "## Funkcje pomocnicze"
   ]
  },
  {
   "cell_type": "code",
   "execution_count": 2,
   "metadata": {},
   "outputs": [],
   "source": [
    "def same(first, second, eps):\n",
    "    return np.all(np.abs(first - second) < eps)"
   ]
  },
  {
   "cell_type": "code",
   "execution_count": 158,
   "metadata": {},
   "outputs": [],
   "source": [
    "def show_bar_plot(val1, val2, val3, label1, label2, label3, xlabel, ylabel):\n",
    "    x = np.arange(1)\n",
    "    width = 0.3\n",
    "\n",
    "    fig, ax = plt.subplots()\n",
    "    rects1 = ax.bar(x - width - 0.05, [val1], width, label=label1)\n",
    "    rects1 = ax.bar(x, [val2], width, label=label2)\n",
    "    rects2 = ax.bar(x + width + 0.05, [val3], width, label=label3)\n",
    "\n",
    "    ax.set_ylabel(ylabel)\n",
    "    ax.set_xticks(x)\n",
    "    ax.set_xlabel(xlabel)\n",
    "    ax.legend()\n",
    "\n",
    "    fig.tight_layout()\n",
    "    plt.show()\n"
   ]
  },
  {
   "cell_type": "code",
   "execution_count": 165,
   "metadata": {},
   "outputs": [],
   "source": [
    "def apply_linspace(fun, end=4):\n",
    "    lin = np.linspace(0, end, end * (2**7))# 100)\n",
    "    return fun(lin * 2 * np.pi)"
   ]
  },
  {
   "cell_type": "code",
   "execution_count": 166,
   "metadata": {},
   "outputs": [],
   "source": [
    "def show_sig(sig, end=4, figsize=(10,10), linspace=True):\n",
    "    lin = np.linspace(0,end,end * (2**7))#100)\n",
    "    fig = plt.figure(figsize=figsize)\n",
    "    ax = fig.add_subplot()\n",
    "    ax.plot(lin * 2 * np.pi, apply_linspace(sig, end) if linspace else sig)\n",
    "    plt.show()   "
   ]
  },
  {
   "cell_type": "markdown",
   "metadata": {},
   "source": [
    "## Zadanie 1"
   ]
  },
  {
   "cell_type": "markdown",
   "metadata": {},
   "source": [
    "### Konstrukcja macierzy Fouriera"
   ]
  },
  {
   "cell_type": "markdown",
   "metadata": {},
   "source": []
  },
  {
   "cell_type": "code",
   "execution_count": 4,
   "metadata": {},
   "outputs": [],
   "source": [
    "def fourier_matrix(n):\n",
    "    indices = np.arange(n).reshape(-1,1) @ np.arange(n).reshape(1,-1)\n",
    "    xi = np.exp(np.pi * -2j / n)\n",
    "    fourier_matrix = np.full((n,n), xi)\n",
    "    return np.power(fourier_matrix, indices)"
   ]
  },
  {
   "cell_type": "markdown",
   "metadata": {},
   "source": [
    "### Funkcja realizująca DFT"
   ]
  },
  {
   "cell_type": "markdown",
   "metadata": {},
   "source": []
  },
  {
   "cell_type": "code",
   "execution_count": 5,
   "metadata": {},
   "outputs": [],
   "source": [
    "def dft(vector):\n",
    "    vector = np.asarray(vector)\n",
    "    n = vector.shape[0]\n",
    "    matrix = fourier_matrix(n)\n",
    "    return matrix @ vector"
   ]
  },
  {
   "cell_type": "markdown",
   "metadata": {},
   "source": [
    "Przykład działania:"
   ]
  },
  {
   "cell_type": "code",
   "execution_count": 6,
   "metadata": {},
   "outputs": [
    {
     "name": "stdout",
     "output_type": "stream",
     "text": [
      "[0.31370943 0.80853163 0.23756676 0.04618503 0.25078368 0.04105695\n",
      " 0.00305652 0.63955479 0.73975851 0.22065195]\n"
     ]
    }
   ],
   "source": [
    "vector = np.random.rand(10)\n",
    "print(vector)"
   ]
  },
  {
   "cell_type": "code",
   "execution_count": 7,
   "metadata": {
    "scrolled": true
   },
   "outputs": [
    {
     "name": "stdout",
     "output_type": "stream",
     "text": [
      "[ 3.30085525+0.00000000e+00j  0.9900233 +5.50783545e-01j\n",
      " -0.59420539-3.77097367e-01j -0.20283938-1.43866422e+00j\n",
      " -0.16930629-1.13221202e-01j -0.21110546-4.52911783e-19j\n",
      " -0.16930629+1.13221202e-01j -0.20283938+1.43866422e+00j\n",
      " -0.59420539+3.77097367e-01j  0.9900233 -5.50783545e-01j]\n"
     ]
    }
   ],
   "source": [
    "vector_dft = dft(vector)\n",
    "print(vector_dft)"
   ]
  },
  {
   "cell_type": "markdown",
   "metadata": {},
   "source": [
    "Czas działania:"
   ]
  },
  {
   "cell_type": "code",
   "execution_count": 8,
   "metadata": {},
   "outputs": [],
   "source": [
    "vector_test_time1 = np.random.rand(2 ** 7)"
   ]
  },
  {
   "cell_type": "code",
   "execution_count": 9,
   "metadata": {},
   "outputs": [
    {
     "name": "stdout",
     "output_type": "stream",
     "text": [
      "13.2 ms ± 3.07 ms per loop (mean ± std. dev. of 4 runs, 3 loops each)\n"
     ]
    },
    {
     "data": {
      "text/plain": [
       "<TimeitResult : 13.2 ms ± 3.07 ms per loop (mean ± std. dev. of 4 runs, 3 loops each)>"
      ]
     },
     "execution_count": 9,
     "metadata": {},
     "output_type": "execute_result"
    }
   ],
   "source": [
    "%%timeit -n 3 -r 4 -o \n",
    "dft(vector_test_time1)"
   ]
  },
  {
   "cell_type": "code",
   "execution_count": 10,
   "metadata": {},
   "outputs": [],
   "source": [
    "res = _\n",
    "dft_time1 = res.best"
   ]
  },
  {
   "cell_type": "code",
   "execution_count": 11,
   "metadata": {},
   "outputs": [],
   "source": [
    "vector_test_time2 = np.random.rand(2 ** 10)"
   ]
  },
  {
   "cell_type": "code",
   "execution_count": 12,
   "metadata": {},
   "outputs": [
    {
     "name": "stdout",
     "output_type": "stream",
     "text": [
      "349 ms ± 17.8 ms per loop (mean ± std. dev. of 4 runs, 3 loops each)\n"
     ]
    },
    {
     "data": {
      "text/plain": [
       "<TimeitResult : 349 ms ± 17.8 ms per loop (mean ± std. dev. of 4 runs, 3 loops each)>"
      ]
     },
     "execution_count": 12,
     "metadata": {},
     "output_type": "execute_result"
    }
   ],
   "source": [
    "%%timeit -n 3 -r 4 -o \n",
    "dft(vector_test_time2)"
   ]
  },
  {
   "cell_type": "code",
   "execution_count": 13,
   "metadata": {},
   "outputs": [],
   "source": [
    "res = _\n",
    "dft_time2 = res.best"
   ]
  },
  {
   "cell_type": "code",
   "execution_count": 14,
   "metadata": {},
   "outputs": [],
   "source": [
    "vector_test_time3 = np.random.rand(2 ** 13)"
   ]
  },
  {
   "cell_type": "code",
   "execution_count": 15,
   "metadata": {},
   "outputs": [
    {
     "name": "stdout",
     "output_type": "stream",
     "text": [
      "21.9 s ± 0 ns per loop (mean ± std. dev. of 1 run, 1 loop each)\n"
     ]
    },
    {
     "data": {
      "text/plain": [
       "<TimeitResult : 21.9 s ± 0 ns per loop (mean ± std. dev. of 1 run, 1 loop each)>"
      ]
     },
     "execution_count": 15,
     "metadata": {},
     "output_type": "execute_result"
    }
   ],
   "source": [
    "%%timeit -n 1 -r 1 -o \n",
    "dft(vector_test_time3)"
   ]
  },
  {
   "cell_type": "code",
   "execution_count": 16,
   "metadata": {},
   "outputs": [],
   "source": [
    "res = _\n",
    "dft_time3 = res.best"
   ]
  },
  {
   "cell_type": "markdown",
   "metadata": {},
   "source": [
    "### Funkcja realizująca IDFT"
   ]
  },
  {
   "cell_type": "markdown",
   "metadata": {},
   "source": []
  },
  {
   "cell_type": "code",
   "execution_count": 17,
   "metadata": {},
   "outputs": [],
   "source": [
    "def idft(vector):\n",
    "    vector = np.asarray(vector)\n",
    "    n = vector.shape[0]\n",
    "    matrix = fourier_matrix(n)\n",
    "    return np.conj(matrix @ np.conj(vector)) / n"
   ]
  },
  {
   "cell_type": "markdown",
   "metadata": {},
   "source": [
    "Przykład działania:"
   ]
  },
  {
   "cell_type": "code",
   "execution_count": 18,
   "metadata": {},
   "outputs": [
    {
     "data": {
      "text/plain": [
       "array([0.31370943-4.16333634e-16j, 0.80853163-1.88737914e-16j,\n",
       "       0.23756676-1.99840144e-16j, 0.04618503-4.44089210e-17j,\n",
       "       0.25078368+5.55111512e-17j, 0.04105695+2.44249065e-16j,\n",
       "       0.00305652+9.54791801e-16j, 0.63955479+1.02140518e-15j,\n",
       "       0.73975851-2.44249065e-16j, 0.22065195-7.93809463e-16j])"
      ]
     },
     "execution_count": 18,
     "metadata": {},
     "output_type": "execute_result"
    }
   ],
   "source": [
    "idft(vector_dft)"
   ]
  },
  {
   "cell_type": "markdown",
   "metadata": {},
   "source": [
    "Czas działania:"
   ]
  },
  {
   "cell_type": "code",
   "execution_count": 19,
   "metadata": {},
   "outputs": [],
   "source": [
    "vector_dft = dft(np.random.rand(10 ** 3))"
   ]
  },
  {
   "cell_type": "code",
   "execution_count": 20,
   "metadata": {},
   "outputs": [
    {
     "name": "stdout",
     "output_type": "stream",
     "text": [
      "354 ms ± 10.5 ms per loop (mean ± std. dev. of 4 runs, 3 loops each)\n"
     ]
    }
   ],
   "source": [
    "%%timeit -n 3 -r 4\n",
    "dft(vector_dft)"
   ]
  },
  {
   "cell_type": "markdown",
   "metadata": {},
   "source": [
    "### Test działania implementacji"
   ]
  },
  {
   "cell_type": "markdown",
   "metadata": {},
   "source": []
  },
  {
   "cell_type": "code",
   "execution_count": 21,
   "metadata": {},
   "outputs": [],
   "source": [
    "def test(function, vector, eps=10 ** -7):\n",
    "    y = function(vector)\n",
    "    x = idft(y)\n",
    "    print('Czy po odwróceniu otrzymujemy tą samą macierz:', same(x, vector, eps))\n",
    "    \n",
    "    y_lib = np.fft.fft(vector)\n",
    "    print('Czy biblioteczna implementacja dft zwraca ten sam wynik:', same(y, y_lib, eps))\n",
    "    \n",
    "    x_lib = np.fft.ifft(y_lib)\n",
    "    print('Czy biblioteczna implementacja idft zwraca ten sam wynik:', same(x, x_lib, eps))"
   ]
  },
  {
   "cell_type": "markdown",
   "metadata": {},
   "source": [
    "Test działania dft"
   ]
  },
  {
   "cell_type": "code",
   "execution_count": 22,
   "metadata": {
    "scrolled": true
   },
   "outputs": [
    {
     "name": "stdout",
     "output_type": "stream",
     "text": [
      "Czy po odwróceniu otrzymujemy tą samą macierz: True\n",
      "Czy biblioteczna implementacja dft zwraca ten sam wynik: True\n",
      "Czy biblioteczna implementacja idft zwraca ten sam wynik: True\n"
     ]
    }
   ],
   "source": [
    "test(dft, np.random.rand(1))"
   ]
  },
  {
   "cell_type": "code",
   "execution_count": 23,
   "metadata": {},
   "outputs": [
    {
     "name": "stdout",
     "output_type": "stream",
     "text": [
      "Czy po odwróceniu otrzymujemy tą samą macierz: True\n",
      "Czy biblioteczna implementacja dft zwraca ten sam wynik: True\n",
      "Czy biblioteczna implementacja idft zwraca ten sam wynik: True\n"
     ]
    }
   ],
   "source": [
    "test(dft, np.random.rand(8))"
   ]
  },
  {
   "cell_type": "code",
   "execution_count": 24,
   "metadata": {},
   "outputs": [
    {
     "name": "stdout",
     "output_type": "stream",
     "text": [
      "Czy po odwróceniu otrzymujemy tą samą macierz: True\n",
      "Czy biblioteczna implementacja dft zwraca ten sam wynik: True\n",
      "Czy biblioteczna implementacja idft zwraca ten sam wynik: True\n"
     ]
    }
   ],
   "source": [
    "test(dft, np.random.rand(2 ** 7))"
   ]
  },
  {
   "cell_type": "code",
   "execution_count": 25,
   "metadata": {},
   "outputs": [
    {
     "name": "stdout",
     "output_type": "stream",
     "text": [
      "Czy po odwróceniu otrzymujemy tą samą macierz: True\n",
      "Czy biblioteczna implementacja dft zwraca ten sam wynik: True\n",
      "Czy biblioteczna implementacja idft zwraca ten sam wynik: True\n"
     ]
    }
   ],
   "source": [
    "test(dft, np.random.rand(2 ** 10))"
   ]
  },
  {
   "cell_type": "markdown",
   "metadata": {},
   "source": [
    "### Szybka transformata Fouriera - FFT"
   ]
  },
  {
   "cell_type": "markdown",
   "metadata": {},
   "source": []
  },
  {
   "cell_type": "code",
   "execution_count": 163,
   "metadata": {},
   "outputs": [],
   "source": [
    "def fft(vector):\n",
    "    vector = np.asarray(vector)\n",
    "    n = vector.shape[0]\n",
    "    if n == 1:\n",
    "        return vector\n",
    "    \n",
    "    even_idx = fft(vector[::2])\n",
    "    odd_idx = fft(vector[1::2])\n",
    "    \n",
    "    multiplier = np.exp(np.pi * np.arange(n) * -2j / n)\n",
    "    res = np.concatenate([even_idx + multiplier[:n // 2] * odd_idx,even_idx + multiplier[n // 2:] * odd_idx])\n",
    "    return res"
   ]
  },
  {
   "cell_type": "markdown",
   "metadata": {},
   "source": [
    "Test działania:"
   ]
  },
  {
   "cell_type": "code",
   "execution_count": 157,
   "metadata": {
    "scrolled": true
   },
   "outputs": [
    {
     "name": "stdout",
     "output_type": "stream",
     "text": [
      "Czy po odwróceniu otrzymujemy tą samą macierz: True\n",
      "Czy biblioteczna implementacja dft zwraca ten sam wynik: True\n",
      "Czy biblioteczna implementacja idft zwraca ten sam wynik: True\n"
     ]
    }
   ],
   "source": [
    "test(fft, np.random.rand(1))"
   ]
  },
  {
   "cell_type": "code",
   "execution_count": 151,
   "metadata": {},
   "outputs": [
    {
     "name": "stdout",
     "output_type": "stream",
     "text": [
      "Czy po odwróceniu otrzymujemy tą samą macierz: True\n",
      "Czy biblioteczna implementacja dft zwraca ten sam wynik: True\n",
      "Czy biblioteczna implementacja idft zwraca ten sam wynik: True\n"
     ]
    }
   ],
   "source": [
    "test(fft, np.random.rand(8))"
   ]
  },
  {
   "cell_type": "code",
   "execution_count": 152,
   "metadata": {},
   "outputs": [
    {
     "name": "stdout",
     "output_type": "stream",
     "text": [
      "Czy po odwróceniu otrzymujemy tą samą macierz: True\n",
      "Czy biblioteczna implementacja dft zwraca ten sam wynik: True\n",
      "Czy biblioteczna implementacja idft zwraca ten sam wynik: True\n"
     ]
    }
   ],
   "source": [
    "test(fft, np.random.rand(2 ** 7))"
   ]
  },
  {
   "cell_type": "code",
   "execution_count": 153,
   "metadata": {},
   "outputs": [
    {
     "name": "stdout",
     "output_type": "stream",
     "text": [
      "Czy po odwróceniu otrzymujemy tą samą macierz: True\n",
      "Czy biblioteczna implementacja dft zwraca ten sam wynik: True\n",
      "Czy biblioteczna implementacja idft zwraca ten sam wynik: True\n"
     ]
    }
   ],
   "source": [
    "test(fft, np.random.rand(2 ** 10))"
   ]
  },
  {
   "cell_type": "markdown",
   "metadata": {},
   "source": [
    "Czas działania:"
   ]
  },
  {
   "cell_type": "code",
   "execution_count": 31,
   "metadata": {},
   "outputs": [
    {
     "name": "stdout",
     "output_type": "stream",
     "text": [
      "4.34 ms ± 79.1 µs per loop (mean ± std. dev. of 4 runs, 3 loops each)\n"
     ]
    },
    {
     "data": {
      "text/plain": [
       "<TimeitResult : 4.34 ms ± 79.1 µs per loop (mean ± std. dev. of 4 runs, 3 loops each)>"
      ]
     },
     "execution_count": 31,
     "metadata": {},
     "output_type": "execute_result"
    }
   ],
   "source": [
    "%%timeit -n 3 -r 4 -o \n",
    "fft(vector_test_time1)"
   ]
  },
  {
   "cell_type": "code",
   "execution_count": 32,
   "metadata": {},
   "outputs": [],
   "source": [
    "res = _\n",
    "fft_time1 = res.best"
   ]
  },
  {
   "cell_type": "code",
   "execution_count": 33,
   "metadata": {},
   "outputs": [
    {
     "name": "stdout",
     "output_type": "stream",
     "text": [
      "17.7 ms ± 5.2 ms per loop (mean ± std. dev. of 4 runs, 3 loops each)\n"
     ]
    },
    {
     "data": {
      "text/plain": [
       "<TimeitResult : 17.7 ms ± 5.2 ms per loop (mean ± std. dev. of 4 runs, 3 loops each)>"
      ]
     },
     "execution_count": 33,
     "metadata": {},
     "output_type": "execute_result"
    }
   ],
   "source": [
    "%%timeit -n 3 -r 4 -o \n",
    "fft(vector_test_time2)"
   ]
  },
  {
   "cell_type": "code",
   "execution_count": 34,
   "metadata": {},
   "outputs": [],
   "source": [
    "res = _\n",
    "fft_time2 = res.best"
   ]
  },
  {
   "cell_type": "code",
   "execution_count": 35,
   "metadata": {},
   "outputs": [
    {
     "name": "stdout",
     "output_type": "stream",
     "text": [
      "127 ms ± 0 ns per loop (mean ± std. dev. of 1 run, 1 loop each)\n"
     ]
    },
    {
     "data": {
      "text/plain": [
       "<TimeitResult : 127 ms ± 0 ns per loop (mean ± std. dev. of 1 run, 1 loop each)>"
      ]
     },
     "execution_count": 35,
     "metadata": {},
     "output_type": "execute_result"
    }
   ],
   "source": [
    "%%timeit -n 1 -r 1 -o \n",
    "fft(vector_test_time3)"
   ]
  },
  {
   "cell_type": "code",
   "execution_count": 36,
   "metadata": {},
   "outputs": [],
   "source": [
    "res = _\n",
    "fft_time3 = res.best"
   ]
  },
  {
   "cell_type": "markdown",
   "metadata": {},
   "source": [
    "### Porównanie czasu działania implementacji"
   ]
  },
  {
   "cell_type": "markdown",
   "metadata": {},
   "source": [
    "Czas działania implementacji bibliotecznej:"
   ]
  },
  {
   "cell_type": "code",
   "execution_count": 37,
   "metadata": {},
   "outputs": [
    {
     "name": "stdout",
     "output_type": "stream",
     "text": [
      "The slowest run took 11.10 times longer than the fastest. This could mean that an intermediate result is being cached.\n",
      "45.8 µs ± 39.5 µs per loop (mean ± std. dev. of 4 runs, 3 loops each)\n"
     ]
    },
    {
     "data": {
      "text/plain": [
       "<TimeitResult : 45.8 µs ± 39.5 µs per loop (mean ± std. dev. of 4 runs, 3 loops each)>"
      ]
     },
     "execution_count": 37,
     "metadata": {},
     "output_type": "execute_result"
    }
   ],
   "source": [
    "%%timeit -n 3 -r 4 -o \n",
    "np.fft.fft(vector_test_time1)"
   ]
  },
  {
   "cell_type": "code",
   "execution_count": 38,
   "metadata": {},
   "outputs": [],
   "source": [
    "res = _\n",
    "lib_time1 = res.best"
   ]
  },
  {
   "cell_type": "code",
   "execution_count": 39,
   "metadata": {},
   "outputs": [
    {
     "name": "stdout",
     "output_type": "stream",
     "text": [
      "65.4 µs ± 20.1 µs per loop (mean ± std. dev. of 4 runs, 3 loops each)\n"
     ]
    },
    {
     "data": {
      "text/plain": [
       "<TimeitResult : 65.4 µs ± 20.1 µs per loop (mean ± std. dev. of 4 runs, 3 loops each)>"
      ]
     },
     "execution_count": 39,
     "metadata": {},
     "output_type": "execute_result"
    }
   ],
   "source": [
    "%%timeit -n 3 -r 4 -o \n",
    "np.fft.fft(vector_test_time2)"
   ]
  },
  {
   "cell_type": "code",
   "execution_count": 40,
   "metadata": {},
   "outputs": [],
   "source": [
    "res = _\n",
    "lib_time2 = res.best"
   ]
  },
  {
   "cell_type": "code",
   "execution_count": 41,
   "metadata": {},
   "outputs": [
    {
     "name": "stdout",
     "output_type": "stream",
     "text": [
      "363 µs ± 0 ns per loop (mean ± std. dev. of 1 run, 1 loop each)\n"
     ]
    },
    {
     "data": {
      "text/plain": [
       "<TimeitResult : 363 µs ± 0 ns per loop (mean ± std. dev. of 1 run, 1 loop each)>"
      ]
     },
     "execution_count": 41,
     "metadata": {},
     "output_type": "execute_result"
    }
   ],
   "source": [
    "%%timeit -n 1 -r 1 -o \n",
    "np.fft.fft(vector_test_time3)"
   ]
  },
  {
   "cell_type": "code",
   "execution_count": 42,
   "metadata": {},
   "outputs": [],
   "source": [
    "res = _\n",
    "lib_time3 = res.best"
   ]
  },
  {
   "cell_type": "markdown",
   "metadata": {},
   "source": [
    "Porównanie"
   ]
  },
  {
   "cell_type": "code",
   "execution_count": 60,
   "metadata": {},
   "outputs": [
    {
     "data": {
      "text/markdown": [
       "\n",
       "| Implementacja | n = 2 ^ 7  | n = 2 ^ 10 | n = 2 ^ 13 |\n",
       "|---------------|------------|------------|------------|\n",
       "|   DFT         | 0.010061 s       | 0.333320 s       | 21.905411 s       |\n",
       "|   FFT         | 0.004268 s       | 0.014442 s       | 0.126985 s       |\n",
       "|   Numpy FFT   | 0.000010 s       | 0.000033 s       | 0.000363 s       |\n"
      ],
      "text/plain": [
       "<IPython.core.display.Markdown object>"
      ]
     },
     "execution_count": 60,
     "metadata": {},
     "output_type": "execute_result"
    }
   ],
   "source": [
    "md('''\n",
    "| Implementacja | n = 2 ^ 7  | n = 2 ^ 10 | n = 2 ^ 13 |\n",
    "|---------------|------------|------------|------------|\n",
    "|   DFT         | %f s       | %f s       | %f s       |\n",
    "|   FFT         | %f s       | %f s       | %f s       |\n",
    "|   Numpy FFT   | %f s       | %f s       | %f s       |\n",
    "''' % (\n",
    "    dft_time1, dft_time2, dft_time3,\n",
    "    fft_time1, fft_time2, fft_time3,\n",
    "    lib_time1, lib_time2, lib_time3\n",
    "))"
   ]
  },
  {
   "cell_type": "code",
   "execution_count": 43,
   "metadata": {},
   "outputs": [
    {
     "data": {
      "image/png": "[encoded data removed]",
      "text/plain": [
       "<Figure size 432x288 with 1 Axes>"
      ]
     },
     "metadata": {
      "needs_background": "light"
     },
     "output_type": "display_data"
    }
   ],
   "source": [
    "show_bar_plot(dft_time1, fft_time1, lib_time1, 'DFT', 'FFT', 'Numpy FFT', 'Implementacja, n = 2 ^ 7', 'Czas działania')"
   ]
  },
  {
   "cell_type": "code",
   "execution_count": 44,
   "metadata": {},
   "outputs": [
    {
     "data": {
      "image/png": "[encoded data removed]",
      "text/plain": [
       "<Figure size 432x288 with 1 Axes>"
      ]
     },
     "metadata": {
      "needs_background": "light"
     },
     "output_type": "display_data"
    }
   ],
   "source": [
    "show_bar_plot(dft_time2, fft_time2, lib_time2, 'DFT', 'FFT', 'Numpy FFT', 'Implementacja, n = 2 ^ 10', 'Czas działania')"
   ]
  },
  {
   "cell_type": "code",
   "execution_count": 45,
   "metadata": {},
   "outputs": [
    {
     "data": {
      "image/png": "[encoded data removed]",
      "text/plain": [
       "<Figure size 432x288 with 1 Axes>"
      ]
     },
     "metadata": {
      "needs_background": "light"
     },
     "output_type": "display_data"
    }
   ],
   "source": [
    "show_bar_plot(dft_time3, fft_time3, lib_time3, 'DFT', 'FFT', 'Numpy FFT', 'Implementacja, n = 2 ^ 13', 'Czas działania')"
   ]
  },
  {
   "cell_type": "markdown",
   "metadata": {},
   "source": [
    "Nie jest zaskoczeniem dla mnie, że najwyższą wydajnością wykazała się implementacjia biblioteczna. \n",
    "\n",
    "Warto zauważyć jednak, że różnica pomiędzy czasem wykonania mojej implementacji DFT, a FFT jest ogromna we wszystkich przypadkach testowych, podczas gdy implementacja FFT nie jest znacząco trudniejsza do przygotowania. "
   ]
  },
  {
   "cell_type": "markdown",
   "metadata": {},
   "source": [
    "## Zadanie 2\n",
    "### Sygnały czasowo - amplitudowe"
   ]
  },
  {
   "cell_type": "code",
   "execution_count": 82,
   "metadata": {},
   "outputs": [],
   "source": [
    "sin1 = lambda x: np.sin(x)\n",
    "sin2 = lambda x: np.sin(x * 2)\n",
    "sin3 = lambda x: np.sin(x * 7)\n",
    "sin4 = lambda x: np.sin(x * 10)\n",
    "sin5 = lambda x: np.sin(x * 13)"
   ]
  },
  {
   "cell_type": "markdown",
   "metadata": {},
   "source": [
    "Sygnał będący sumą pięciu sygnałów sinusoidalnych o różnych częstotliwościach"
   ]
  },
  {
   "cell_type": "code",
   "execution_count": 104,
   "metadata": {},
   "outputs": [
    {
     "data": {
      "image/png": "[encoded data removed]",
      "text/plain": [
       "<Figure size 720x720 with 1 Axes>"
      ]
     },
     "metadata": {
      "needs_background": "light"
     },
     "output_type": "display_data"
    }
   ],
   "source": [
    "signal1 = lambda x: sin1(x) + sin2(x) + sin3(x) + sin4(x) + sin5(x)\n",
    "\n",
    "show_sig(signal1)"
   ]
  },
  {
   "cell_type": "markdown",
   "metadata": {},
   "source": [
    "Sygnał złożony z pięciu (tych samych) sygnałów sinusoidalnych ułożonych przedziałami"
   ]
  },
  {
   "cell_type": "code",
   "execution_count": 119,
   "metadata": {},
   "outputs": [
    {
     "data": {
      "image/png": "[encoded data removed]",
      "text/plain": [
       "<Figure size 720x720 with 1 Axes>"
      ]
     },
     "metadata": {
      "needs_background": "light"
     },
     "output_type": "display_data"
    }
   ],
   "source": [
    "signal2 = lambda x: np.concatenate([\n",
    "                    sin1(x[: x.shape[0] // 5]),\n",
    "                    sin2(x[x.shape[0] // 5 : 2 * x.shape[0] // 5]),\n",
    "                    sin3(x[2 * x.shape[0] // 5 : 3 *x.shape[0] // 5]),\n",
    "                    sin4(x[3 * x.shape[0] // 5 : 4 * x.shape[0] // 5]),\n",
    "                    sin5(x[4 * x.shape[0] // 5 :])\n",
    "                    ])\n",
    "\n",
    "show_sig(signal2)"
   ]
  },
  {
   "cell_type": "markdown",
   "metadata": {},
   "source": [
    "### Transformacja sygnałów testowych do domeny częstotliwości "
   ]
  },
  {
   "cell_type": "markdown",
   "metadata": {},
   "source": [
    "Sygnał będący sumą pięciu sygnałów sinusoidalnych"
   ]
  },
  {
   "cell_type": "code",
   "execution_count": 167,
   "metadata": {
    "scrolled": false
   },
   "outputs": [
    {
     "name": "stdout",
     "output_type": "stream",
     "text": [
      "n 512\n",
      "n 256\n",
      "n 128\n",
      "n 64\n",
      "n 32\n",
      "n 16\n",
      "n 8\n",
      "n 4\n",
      "n 2\n",
      "n 1\n",
      "n 1\n",
      "n 2\n",
      "n 1\n",
      "n 1\n",
      "n 4\n",
      "n 2\n",
      "n 1\n",
      "n 1\n",
      "n 2\n",
      "n 1\n",
      "n 1\n",
      "n 8\n",
      "n 4\n",
      "n 2\n",
      "n 1\n",
      "n 1\n",
      "n 2\n",
      "n 1\n",
      "n 1\n",
      "n 4\n",
      "n 2\n",
      "n 1\n",
      "n 1\n",
      "n 2\n",
      "n 1\n",
      "n 1\n",
      "n 16\n",
      "n 8\n",
      "n 4\n",
      "n 2\n",
      "n 1\n",
      "n 1\n",
      "n 2\n",
      "n 1\n",
      "n 1\n",
      "n 4\n",
      "n 2\n",
      "n 1\n",
      "n 1\n",
      "n 2\n",
      "n 1\n",
      "n 1\n",
      "n 8\n",
      "n 4\n",
      "n 2\n",
      "n 1\n",
      "n 1\n",
      "n 2\n",
      "n 1\n",
      "n 1\n",
      "n 4\n",
      "n 2\n",
      "n 1\n",
      "n 1\n",
      "n 2\n",
      "n 1\n",
      "n 1\n",
      "n 32\n",
      "n 16\n",
      "n 8\n",
      "n 4\n",
      "n 2\n",
      "n 1\n",
      "n 1\n",
      "n 2\n",
      "n 1\n",
      "n 1\n",
      "n 4\n",
      "n 2\n",
      "n 1\n",
      "n 1\n",
      "n 2\n",
      "n 1\n",
      "n 1\n",
      "n 8\n",
      "n 4\n",
      "n 2\n",
      "n 1\n",
      "n 1\n",
      "n 2\n",
      "n 1\n",
      "n 1\n",
      "n 4\n",
      "n 2\n",
      "n 1\n",
      "n 1\n",
      "n 2\n",
      "n 1\n",
      "n 1\n",
      "n 16\n",
      "n 8\n",
      "n 4\n",
      "n 2\n",
      "n 1\n",
      "n 1\n",
      "n 2\n",
      "n 1\n",
      "n 1\n",
      "n 4\n",
      "n 2\n",
      "n 1\n",
      "n 1\n",
      "n 2\n",
      "n 1\n",
      "n 1\n",
      "n 8\n",
      "n 4\n",
      "n 2\n",
      "n 1\n",
      "n 1\n",
      "n 2\n",
      "n 1\n",
      "n 1\n",
      "n 4\n",
      "n 2\n",
      "n 1\n",
      "n 1\n",
      "n 2\n",
      "n 1\n",
      "n 1\n",
      "n 64\n",
      "n 32\n",
      "n 16\n",
      "n 8\n",
      "n 4\n",
      "n 2\n",
      "n 1\n",
      "n 1\n",
      "n 2\n",
      "n 1\n",
      "n 1\n",
      "n 4\n",
      "n 2\n",
      "n 1\n",
      "n 1\n",
      "n 2\n",
      "n 1\n",
      "n 1\n",
      "n 8\n",
      "n 4\n",
      "n 2\n",
      "n 1\n",
      "n 1\n",
      "n 2\n",
      "n 1\n",
      "n 1\n",
      "n 4\n",
      "n 2\n",
      "n 1\n",
      "n 1\n",
      "n 2\n",
      "n 1\n",
      "n 1\n",
      "n 16\n",
      "n 8\n",
      "n 4\n",
      "n 2\n",
      "n 1\n",
      "n 1\n",
      "n 2\n",
      "n 1\n",
      "n 1\n",
      "n 4\n",
      "n 2\n",
      "n 1\n",
      "n 1\n",
      "n 2\n",
      "n 1\n",
      "n 1\n",
      "n 8\n",
      "n 4\n",
      "n 2\n",
      "n 1\n",
      "n 1\n",
      "n 2\n",
      "n 1\n",
      "n 1\n",
      "n 4\n",
      "n 2\n",
      "n 1\n",
      "n 1\n",
      "n 2\n",
      "n 1\n",
      "n 1\n",
      "n 32\n",
      "n 16\n",
      "n 8\n",
      "n 4\n",
      "n 2\n",
      "n 1\n",
      "n 1\n",
      "n 2\n",
      "n 1\n",
      "n 1\n",
      "n 4\n",
      "n 2\n",
      "n 1\n",
      "n 1\n",
      "n 2\n",
      "n 1\n",
      "n 1\n",
      "n 8\n",
      "n 4\n",
      "n 2\n",
      "n 1\n",
      "n 1\n",
      "n 2\n",
      "n 1\n",
      "n 1\n",
      "n 4\n",
      "n 2\n",
      "n 1\n",
      "n 1\n",
      "n 2\n",
      "n 1\n",
      "n 1\n",
      "n 16\n",
      "n 8\n",
      "n 4\n",
      "n 2\n",
      "n 1\n",
      "n 1\n",
      "n 2\n",
      "n 1\n",
      "n 1\n",
      "n 4\n",
      "n 2\n",
      "n 1\n",
      "n 1\n",
      "n 2\n",
      "n 1\n",
      "n 1\n",
      "n 8\n",
      "n 4\n",
      "n 2\n",
      "n 1\n",
      "n 1\n",
      "n 2\n",
      "n 1\n",
      "n 1\n",
      "n 4\n",
      "n 2\n",
      "n 1\n",
      "n 1\n",
      "n 2\n",
      "n 1\n",
      "n 1\n",
      "n 128\n",
      "n 64\n",
      "n 32\n",
      "n 16\n",
      "n 8\n",
      "n 4\n",
      "n 2\n",
      "n 1\n",
      "n 1\n",
      "n 2\n",
      "n 1\n",
      "n 1\n",
      "n 4\n",
      "n 2\n",
      "n 1\n",
      "n 1\n",
      "n 2\n",
      "n 1\n",
      "n 1\n",
      "n 8\n",
      "n 4\n",
      "n 2\n",
      "n 1\n",
      "n 1\n",
      "n 2\n",
      "n 1\n",
      "n 1\n",
      "n 4\n",
      "n 2\n",
      "n 1\n",
      "n 1\n",
      "n 2\n",
      "n 1\n",
      "n 1\n",
      "n 16\n",
      "n 8\n",
      "n 4\n",
      "n 2\n",
      "n 1\n",
      "n 1\n",
      "n 2\n",
      "n 1\n",
      "n 1\n",
      "n 4\n",
      "n 2\n",
      "n 1\n",
      "n 1\n",
      "n 2\n",
      "n 1\n",
      "n 1\n",
      "n 8\n",
      "n 4\n",
      "n 2\n",
      "n 1\n",
      "n 1\n",
      "n 2\n",
      "n 1\n",
      "n 1\n",
      "n 4\n",
      "n 2\n",
      "n 1\n",
      "n 1\n",
      "n 2\n",
      "n 1\n",
      "n 1\n",
      "n 32\n",
      "n 16\n",
      "n 8\n",
      "n 4\n",
      "n 2\n",
      "n 1\n",
      "n 1\n",
      "n 2\n",
      "n 1\n",
      "n 1\n",
      "n 4\n",
      "n 2\n",
      "n 1\n",
      "n 1\n",
      "n 2\n",
      "n 1\n",
      "n 1\n",
      "n 8\n",
      "n 4\n",
      "n 2\n",
      "n 1\n",
      "n 1\n",
      "n 2\n",
      "n 1\n",
      "n 1\n",
      "n 4\n",
      "n 2\n",
      "n 1\n",
      "n 1\n",
      "n 2\n",
      "n 1\n",
      "n 1\n",
      "n 16\n",
      "n 8\n",
      "n 4\n",
      "n 2\n",
      "n 1\n",
      "n 1\n",
      "n 2\n",
      "n 1\n",
      "n 1\n",
      "n 4\n",
      "n 2\n",
      "n 1\n",
      "n 1\n",
      "n 2\n",
      "n 1\n",
      "n 1\n",
      "n 8\n",
      "n 4\n",
      "n 2\n",
      "n 1\n",
      "n 1\n",
      "n 2\n",
      "n 1\n",
      "n 1\n",
      "n 4\n",
      "n 2\n",
      "n 1\n",
      "n 1\n",
      "n 2\n",
      "n 1\n",
      "n 1\n",
      "n 64\n",
      "n 32\n",
      "n 16\n",
      "n 8\n",
      "n 4\n",
      "n 2\n",
      "n 1\n",
      "n 1\n",
      "n 2\n",
      "n 1\n",
      "n 1\n",
      "n 4\n",
      "n 2\n",
      "n 1\n",
      "n 1\n",
      "n 2\n",
      "n 1\n",
      "n 1\n",
      "n 8\n",
      "n 4\n",
      "n 2\n",
      "n 1\n",
      "n 1\n",
      "n 2\n",
      "n 1\n",
      "n 1\n",
      "n 4\n",
      "n 2\n",
      "n 1\n",
      "n 1\n",
      "n 2\n",
      "n 1\n",
      "n 1\n",
      "n 16\n",
      "n 8\n",
      "n 4\n",
      "n 2\n",
      "n 1\n",
      "n 1\n",
      "n 2\n",
      "n 1\n",
      "n 1\n",
      "n 4\n",
      "n 2\n",
      "n 1\n",
      "n 1\n",
      "n 2\n",
      "n 1\n",
      "n 1\n",
      "n 8\n",
      "n 4\n",
      "n 2\n",
      "n 1\n",
      "n 1\n",
      "n 2\n",
      "n 1\n",
      "n 1\n",
      "n 4\n",
      "n 2\n",
      "n 1\n",
      "n 1\n",
      "n 2\n",
      "n 1\n",
      "n 1\n",
      "n 32\n",
      "n 16\n",
      "n 8\n",
      "n 4\n",
      "n 2\n",
      "n 1\n",
      "n 1\n",
      "n 2\n",
      "n 1\n",
      "n 1\n",
      "n 4\n",
      "n 2\n",
      "n 1\n",
      "n 1\n",
      "n 2\n",
      "n 1\n",
      "n 1\n",
      "n 8\n",
      "n 4\n",
      "n 2\n",
      "n 1\n",
      "n 1\n",
      "n 2\n",
      "n 1\n",
      "n 1\n",
      "n 4\n",
      "n 2\n",
      "n 1\n",
      "n 1\n",
      "n 2\n",
      "n 1\n",
      "n 1\n",
      "n 16\n",
      "n 8\n",
      "n 4\n",
      "n 2\n",
      "n 1\n",
      "n 1\n",
      "n 2\n",
      "n 1\n",
      "n 1\n",
      "n 4\n",
      "n 2\n",
      "n 1\n",
      "n 1\n",
      "n 2\n",
      "n 1\n",
      "n 1\n",
      "n 8\n",
      "n 4\n",
      "n 2\n",
      "n 1\n",
      "n 1\n",
      "n 2\n",
      "n 1\n",
      "n 1\n",
      "n 4\n",
      "n 2\n",
      "n 1\n",
      "n 1\n",
      "n 2\n",
      "n 1\n",
      "n 1\n",
      "n 256\n",
      "n 128\n",
      "n 64\n",
      "n 32\n",
      "n 16\n",
      "n 8\n",
      "n 4\n",
      "n 2\n",
      "n 1\n",
      "n 1\n",
      "n 2\n",
      "n 1\n",
      "n 1\n",
      "n 4\n",
      "n 2\n",
      "n 1\n",
      "n 1\n",
      "n 2\n",
      "n 1\n",
      "n 1\n",
      "n 8\n",
      "n 4\n",
      "n 2\n",
      "n 1\n",
      "n 1\n",
      "n 2\n",
      "n 1\n",
      "n 1\n",
      "n 4\n",
      "n 2\n",
      "n 1\n",
      "n 1\n",
      "n 2\n",
      "n 1\n",
      "n 1\n",
      "n 16\n",
      "n 8\n",
      "n 4\n",
      "n 2\n",
      "n 1\n",
      "n 1\n",
      "n 2\n",
      "n 1\n",
      "n 1\n",
      "n 4\n",
      "n 2\n",
      "n 1\n",
      "n 1\n",
      "n 2\n",
      "n 1\n",
      "n 1\n",
      "n 8\n",
      "n 4\n",
      "n 2\n",
      "n 1\n",
      "n 1\n",
      "n 2\n",
      "n 1\n",
      "n 1\n",
      "n 4\n",
      "n 2\n",
      "n 1\n",
      "n 1\n",
      "n 2\n",
      "n 1\n",
      "n 1\n",
      "n 32\n",
      "n 16\n",
      "n 8\n",
      "n 4\n",
      "n 2\n",
      "n 1\n",
      "n 1\n",
      "n 2\n",
      "n 1\n",
      "n 1\n",
      "n 4\n",
      "n 2\n",
      "n 1\n",
      "n 1\n",
      "n 2\n",
      "n 1\n",
      "n 1\n",
      "n 8\n",
      "n 4\n",
      "n 2\n",
      "n 1\n",
      "n 1\n",
      "n 2\n",
      "n 1\n",
      "n 1\n",
      "n 4\n",
      "n 2\n",
      "n 1\n",
      "n 1\n",
      "n 2\n",
      "n 1\n",
      "n 1\n",
      "n 16\n",
      "n 8\n",
      "n 4\n",
      "n 2\n",
      "n 1\n",
      "n 1\n",
      "n 2\n",
      "n 1\n",
      "n 1\n",
      "n 4\n",
      "n 2\n",
      "n 1\n",
      "n 1\n",
      "n 2\n",
      "n 1\n",
      "n 1\n",
      "n 8\n",
      "n 4\n",
      "n 2\n",
      "n 1\n",
      "n 1\n",
      "n 2\n",
      "n 1\n",
      "n 1\n",
      "n 4\n",
      "n 2\n",
      "n 1\n",
      "n 1\n",
      "n 2\n",
      "n 1\n",
      "n 1\n",
      "n 64\n",
      "n 32\n",
      "n 16\n",
      "n 8\n",
      "n 4\n",
      "n 2\n",
      "n 1\n",
      "n 1\n",
      "n 2\n",
      "n 1\n",
      "n 1\n",
      "n 4\n",
      "n 2\n",
      "n 1\n",
      "n 1\n",
      "n 2\n",
      "n 1\n",
      "n 1\n",
      "n 8\n",
      "n 4\n",
      "n 2\n",
      "n 1\n",
      "n 1\n",
      "n 2\n",
      "n 1\n",
      "n 1\n",
      "n 4\n",
      "n 2\n",
      "n 1\n",
      "n 1\n",
      "n 2\n",
      "n 1\n",
      "n 1\n",
      "n 16\n",
      "n 8\n",
      "n 4\n",
      "n 2\n",
      "n 1\n",
      "n 1\n",
      "n 2\n",
      "n 1\n",
      "n 1\n",
      "n 4\n",
      "n 2\n",
      "n 1\n",
      "n 1\n",
      "n 2\n",
      "n 1\n",
      "n 1\n",
      "n 8\n",
      "n 4\n",
      "n 2\n",
      "n 1\n",
      "n 1\n",
      "n 2\n",
      "n 1\n",
      "n 1\n",
      "n 4\n",
      "n 2\n",
      "n 1\n",
      "n 1\n",
      "n 2\n",
      "n 1\n",
      "n 1\n",
      "n 32\n",
      "n 16\n",
      "n 8\n",
      "n 4\n",
      "n 2\n",
      "n 1\n",
      "n 1\n",
      "n 2\n",
      "n 1\n",
      "n 1\n",
      "n 4\n",
      "n 2\n",
      "n 1\n",
      "n 1\n",
      "n 2\n",
      "n 1\n",
      "n 1\n",
      "n 8\n",
      "n 4\n",
      "n 2\n",
      "n 1\n",
      "n 1\n",
      "n 2\n",
      "n 1\n",
      "n 1\n",
      "n 4\n",
      "n 2\n",
      "n 1\n",
      "n 1\n",
      "n 2\n",
      "n 1\n",
      "n 1\n",
      "n 16\n",
      "n 8\n",
      "n 4\n",
      "n 2\n",
      "n 1\n",
      "n 1\n",
      "n 2\n",
      "n 1\n",
      "n 1\n",
      "n 4\n",
      "n 2\n",
      "n 1\n",
      "n 1\n",
      "n 2\n",
      "n 1\n",
      "n 1\n",
      "n 8\n",
      "n 4\n",
      "n 2\n",
      "n 1\n",
      "n 1\n",
      "n 2\n",
      "n 1\n",
      "n 1\n",
      "n 4\n",
      "n 2\n",
      "n 1\n",
      "n 1\n",
      "n 2\n",
      "n 1\n",
      "n 1\n",
      "n 128\n",
      "n 64\n",
      "n 32\n",
      "n 16\n",
      "n 8\n",
      "n 4\n",
      "n 2\n",
      "n 1\n",
      "n 1\n",
      "n 2\n",
      "n 1\n",
      "n 1\n",
      "n 4\n",
      "n 2\n",
      "n 1\n",
      "n 1\n",
      "n 2\n",
      "n 1\n",
      "n 1\n",
      "n 8\n",
      "n 4\n",
      "n 2\n",
      "n 1\n",
      "n 1\n",
      "n 2\n",
      "n 1\n",
      "n 1\n",
      "n 4\n",
      "n 2\n",
      "n 1\n",
      "n 1\n",
      "n 2\n",
      "n 1\n",
      "n 1\n",
      "n 16\n",
      "n 8\n",
      "n 4\n",
      "n 2\n",
      "n 1\n",
      "n 1\n",
      "n 2\n",
      "n 1\n",
      "n 1\n",
      "n 4\n",
      "n 2\n",
      "n 1\n",
      "n 1\n",
      "n 2\n",
      "n 1\n",
      "n 1\n",
      "n 8\n",
      "n 4\n",
      "n 2\n",
      "n 1\n",
      "n 1\n",
      "n 2\n",
      "n 1\n",
      "n 1\n",
      "n 4\n",
      "n 2\n",
      "n 1\n",
      "n 1\n",
      "n 2\n",
      "n 1\n",
      "n 1\n",
      "n 32\n",
      "n 16\n",
      "n 8\n",
      "n 4\n",
      "n 2\n",
      "n 1\n",
      "n 1\n",
      "n 2\n",
      "n 1\n",
      "n 1\n",
      "n 4\n",
      "n 2\n",
      "n 1\n",
      "n 1\n",
      "n 2\n",
      "n 1\n",
      "n 1\n",
      "n 8\n",
      "n 4\n",
      "n 2\n",
      "n 1\n",
      "n 1\n",
      "n 2\n",
      "n 1\n",
      "n 1\n",
      "n 4\n",
      "n 2\n",
      "n 1\n",
      "n 1\n",
      "n 2\n",
      "n 1\n",
      "n 1\n",
      "n 16\n",
      "n 8\n",
      "n 4\n",
      "n 2\n",
      "n 1\n",
      "n 1\n",
      "n 2\n",
      "n 1\n",
      "n 1\n",
      "n 4\n",
      "n 2\n",
      "n 1\n",
      "n 1\n",
      "n 2\n",
      "n 1\n",
      "n 1\n",
      "n 8\n",
      "n 4\n",
      "n 2\n",
      "n 1\n",
      "n 1\n",
      "n 2\n",
      "n 1\n",
      "n 1\n",
      "n 4\n",
      "n 2\n",
      "n 1\n",
      "n 1\n",
      "n 2\n",
      "n 1\n",
      "n 1\n",
      "n 64\n",
      "n 32\n",
      "n 16\n",
      "n 8\n",
      "n 4\n",
      "n 2\n",
      "n 1\n",
      "n 1\n",
      "n 2\n",
      "n 1\n",
      "n 1\n",
      "n 4\n",
      "n 2\n",
      "n 1\n",
      "n 1\n",
      "n 2\n",
      "n 1\n",
      "n 1\n",
      "n 8\n",
      "n 4\n",
      "n 2\n",
      "n 1\n",
      "n 1\n",
      "n 2\n",
      "n 1\n",
      "n 1\n",
      "n 4\n",
      "n 2\n",
      "n 1\n",
      "n 1\n",
      "n 2\n",
      "n 1\n",
      "n 1\n",
      "n 16\n",
      "n 8\n",
      "n 4\n",
      "n 2\n",
      "n 1\n",
      "n 1\n",
      "n 2\n",
      "n 1\n",
      "n 1\n",
      "n 4\n",
      "n 2\n",
      "n 1\n",
      "n 1\n",
      "n 2\n",
      "n 1\n",
      "n 1\n",
      "n 8\n",
      "n 4\n",
      "n 2\n",
      "n 1\n",
      "n 1\n",
      "n 2\n",
      "n 1\n",
      "n 1\n",
      "n 4\n",
      "n 2\n",
      "n 1\n",
      "n 1\n",
      "n 2\n",
      "n 1\n",
      "n 1\n",
      "n 32\n",
      "n 16\n",
      "n 8\n",
      "n 4\n",
      "n 2\n",
      "n 1\n",
      "n 1\n",
      "n 2\n",
      "n 1\n",
      "n 1\n",
      "n 4\n",
      "n 2\n",
      "n 1\n",
      "n 1\n",
      "n 2\n",
      "n 1\n",
      "n 1\n",
      "n 8\n",
      "n 4\n",
      "n 2\n",
      "n 1\n",
      "n 1\n",
      "n 2\n",
      "n 1\n",
      "n 1\n",
      "n 4\n",
      "n 2\n",
      "n 1\n",
      "n 1\n",
      "n 2\n",
      "n 1\n",
      "n 1\n",
      "n 16\n",
      "n 8\n",
      "n 4\n",
      "n 2\n",
      "n 1\n",
      "n 1\n",
      "n 2\n",
      "n 1\n",
      "n 1\n",
      "n 4\n",
      "n 2\n",
      "n 1\n",
      "n 1\n",
      "n 2\n",
      "n 1\n",
      "n 1\n",
      "n 8\n",
      "n 4\n",
      "n 2\n",
      "n 1\n",
      "n 1\n",
      "n 2\n",
      "n 1\n",
      "n 1\n",
      "n 4\n",
      "n 2\n",
      "n 1\n",
      "n 1\n",
      "n 2\n",
      "n 1\n",
      "n 1\n"
     ]
    },
    {
     "data": {
      "text/plain": [
       "array([ 8.09352585e-14+0.00000000e+00j,  2.88995074e-03-4.70982834e-01j,\n",
       "        1.33433155e-02-1.08725658e+00j,  4.36922503e-02-2.37330847e+00j,\n",
       "        6.29986553e+00-2.56628071e+02j, -2.52041483e-02+8.21269743e-01j,\n",
       "        3.60712642e-02-9.79340980e-01j,  1.45891778e-01-3.39457717e+00j,\n",
       "        1.25436807e+01-2.55332486e+02j, -2.26485964e-01+4.09710486e+00j,\n",
       "       -1.14149001e-01+1.85800419e+00j, -6.81389985e-02+1.00800563e+00j,\n",
       "       -3.72222738e-02+5.04610054e-01j, -1.10243843e-02+1.37914079e-01j,\n",
       "        1.41404214e-02-1.64204214e-01j,  4.01171814e-02-4.34640795e-01j,\n",
       "        6.81470210e-02-6.91908316e-01j,  9.93194734e-02-9.48694577e-01j,\n",
       "        1.34813893e-01-1.21565764e+00j,  1.76105513e-01-1.50371526e+00j,\n",
       "        2.25232066e-01-1.82613335e+00j,  2.85236268e-01-2.20136768e+00j,\n",
       "        3.61014285e-01-2.65810762e+00j,  4.61146045e-01-3.24589182e+00j,\n",
       "        6.02408389e-01-4.06110748e+00j,  8.23118083e-01-5.32374123e+00j,\n",
       "        1.23537318e+00-7.67782919e+00j,  2.37428808e+00-1.42000803e+01j,\n",
       "        4.37835080e+01-2.52330574e+02j, -2.33295467e+00+1.29721061e+01j,\n",
       "       -9.76149709e-01+5.24289075e+00j, -4.91338283e-01+2.55185831e+00j,\n",
       "       -2.03260031e-01+1.02185718e+00j,  2.22411083e-02-1.08335232e-01j,\n",
       "        2.36671909e-01-1.11795037e+00j,  4.74663759e-01-2.17614919e+00j,\n",
       "        7.78085563e-01-3.46497236e+00j,  1.22724315e+00-5.31246916e+00j,\n",
       "        2.04457817e+00-8.60931391e+00j,  4.26299682e+00-1.74730191e+01j,\n",
       "        6.15470105e+01-2.45709439e+02j, -5.31520876e+00+2.06802982e+01j,\n",
       "       -2.50574435e+00+9.50695294e+00j, -1.54860284e+00+5.73253946e+00j,\n",
       "       -1.00990068e+00+3.64931215e+00j, -6.12879235e-01+2.16294219e+00j,\n",
       "       -2.55459906e-01+8.80912550e-01j,  1.26099710e-01-4.25066900e-01j,\n",
       "        6.03308998e-01-1.98884323e+00j,  1.30819926e+00-4.21918360e+00j,\n",
       "        2.60080118e+00-8.20963785e+00j,  6.12408341e+00-1.89269912e+01j,\n",
       "        7.79496750e+01-2.35957034e+02j, -1.00676102e+01+2.98587222e+01j,\n",
       "       -5.31840866e+00+1.54594746e+01j, -3.83037893e+00+1.09158915e+01j,\n",
       "       -3.09604383e+00+8.65286285e+00j, -2.65516965e+00+7.27957273e+00j,\n",
       "       -2.35938985e+00+6.34738684e+00j, -2.14621180e+00+5.66716146e+00j,\n",
       "       -1.98468789e+00+5.14510989e+00j, -1.85771166e+00+4.72930843e+00j,\n",
       "       -1.75504016e+00+4.38860761e+00j, -1.67015466e+00+4.10314044e+00j,\n",
       "       -1.59870214e+00+3.85960840e+00j, -1.53766045e+00+3.64875437e+00j,\n",
       "       -1.48486278e+00+3.46392265e+00j, -1.43871311e+00+3.30019600e+00j,\n",
       "       -1.39800845e+00+3.15385652e+00j, -1.36182388e+00+3.02203646e+00j,\n",
       "       -1.32943593e+00+2.90248508e+00j, -1.30027007e+00+2.79340878e+00j,\n",
       "       -1.27386387e+00+2.69335885e+00j, -1.24984065e+00+2.60115101e+00j,\n",
       "       -1.22789031e+00+2.51580670e+00j, -1.20775509e+00+2.43650945e+00j,\n",
       "       -1.18921884e+00+2.36257206e+00j, -1.17209885e+00+2.29341149e+00j,\n",
       "       -1.15623960e+00+2.22852944e+00j, -1.14150778e+00+2.16749724e+00j,\n",
       "       -1.12778846e+00+2.10994380e+00j, -1.11498196e+00+2.05554606e+00j,\n",
       "       -1.10300142e+00+2.00402132e+00j, -1.09177074e+00+1.95512098e+00j,\n",
       "       -1.08122296e+00+1.90862544e+00j, -1.07129893e+00+1.86433990e+00j,\n",
       "       -1.06194619e+00+1.82209085e+00j, -1.05311801e+00+1.78172321e+00j,\n",
       "       -1.04477267e+00+1.74309789e+00j, -1.03687276e+00+1.70608969e+00j,\n",
       "       -1.02938467e+00+1.67058563e+00j, -1.02227807e+00+1.63648339e+00j,\n",
       "       -1.01552556e+00+1.60369011e+00j, -1.00910231e+00+1.57212129e+00j,\n",
       "       -1.00298573e+00+1.54169979e+00j, -9.97155286e-01+1.51235511e+00j,\n",
       "       -9.91592205e-01+1.48402261e+00j, -9.86279331e-01+1.45664292e+00j,\n",
       "       -9.81200940e-01+1.43016140e+00j, -9.76342592e-01+1.40452768e+00j,\n",
       "       -9.71691004e-01+1.37969522e+00j, -9.67233938e-01+1.35562094e+00j,\n",
       "       -9.62960096e-01+1.33226493e+00j, -9.58859033e-01+1.30959011e+00j,\n",
       "       -9.54921080e-01+1.28756203e+00j, -9.51137267e-01+1.26614856e+00j,\n",
       "       -9.47499270e-01+1.24531980e+00j, -9.43999346e-01+1.22504776e+00j,\n",
       "       -9.40630285e-01+1.20530632e+00j, -9.37385369e-01+1.18607100e+00j,\n",
       "       -9.34258325e-01+1.16731884e+00j, -9.31243293e-01+1.14902833e+00j,\n",
       "       -9.28334790e-01+1.13117921e+00j, -9.25527683e-01+1.11375247e+00j,\n",
       "       -9.22817157e-01+1.09673018e+00j, -9.20198698e-01+1.08009543e+00j,\n",
       "       -9.17668061e-01+1.06383231e+00j, -9.15221259e-01+1.04792575e+00j,\n",
       "       -9.12854537e-01+1.03236152e+00j, -9.10564360e-01+1.01712615e+00j,\n",
       "       -9.08347394e-01+1.00220691e+00j, -9.06200496e-01+9.87591697e-01j,\n",
       "       -9.04120695e-01+9.73269054e-01j, -9.02105185e-01+9.59228099e-01j,\n",
       "       -9.00151313e-01+9.45458491e-01j, -8.98256568e-01+9.31950401e-01j,\n",
       "       -8.96418569e-01+9.18694476e-01j, -8.94635064e-01+9.05681809e-01j,\n",
       "       -8.92903915e-01+8.92903915e-01j, -8.91223092e-01+8.80352702e-01j,\n",
       "       -8.89590669e-01+8.68020452e-01j, -8.88004815e-01+8.55899795e-01j,\n",
       "       -8.86463790e-01+8.43983689e-01j, -8.84965938e-01+8.32265405e-01j,\n",
       "       -8.83509683e-01+8.20738506e-01j, -8.82093524e-01+8.09396831e-01j,\n",
       "       -8.80716030e-01+7.98234481e-01j, -8.79375838e-01+7.87245805e-01j,\n",
       "       -8.78071647e-01+7.76425384e-01j, -8.76802215e-01+7.65768022e-01j,\n",
       "       -8.75566356e-01+7.55268732e-01j, -8.74362938e-01+7.44922727e-01j,\n",
       "       -8.73190878e-01+7.34725406e-01j, -8.72049141e-01+7.24672350e-01j,\n",
       "       -8.70936738e-01+7.14759309e-01j, -8.69852720e-01+7.04982193e-01j,\n",
       "       -8.68796180e-01+6.95337069e-01j, -8.67766248e-01+6.85820146e-01j,\n",
       "       -8.66762093e-01+6.76427776e-01j, -8.65782916e-01+6.67156442e-01j,\n",
       "       -8.64827950e-01+6.58002751e-01j, -8.63896463e-01+6.48963434e-01j,\n",
       "       -8.62987748e-01+6.40035335e-01j, -8.62101129e-01+6.31215406e-01j,\n",
       "       -8.61235957e-01+6.22500706e-01j, -8.60391607e-01+6.13888393e-01j,\n",
       "       -8.59567479e-01+6.05375721e-01j, -8.58762996e-01+5.96960032e-01j,\n",
       "       -8.57977604e-01+5.88638758e-01j, -8.57210769e-01+5.80409416e-01j,\n",
       "       -8.56461978e-01+5.72269598e-01j, -8.55730736e-01+5.64216976e-01j,\n",
       "       -8.55016569e-01+5.56249294e-01j, -8.54319017e-01+5.48364366e-01j,\n",
       "       -8.53637640e-01+5.40560074e-01j, -8.52972012e-01+5.32834363e-01j,\n",
       "       -8.52321724e-01+5.25185242e-01j, -8.51686380e-01+5.17610776e-01j,\n",
       "       -8.51065600e-01+5.10109090e-01j, -8.50459016e-01+5.02678361e-01j,\n",
       "       -8.49866273e-01+4.95316822e-01j, -8.49287029e-01+4.88022752e-01j,\n",
       "       -8.48720954e-01+4.80794482e-01j, -8.48167730e-01+4.73630387e-01j,\n",
       "       -8.47627049e-01+4.66528889e-01j, -8.47098613e-01+4.59488451e-01j,\n",
       "       -8.46582135e-01+4.52507579e-01j, -8.46077338e-01+4.45584817e-01j,\n",
       "       -8.45583955e-01+4.38718750e-01j, -8.45101725e-01+4.31907997e-01j,\n",
       "       -8.44630399e-01+4.25151215e-01j, -8.44169735e-01+4.18447093e-01j,\n",
       "       -8.43719498e-01+4.11794356e-01j, -8.43279462e-01+4.05191757e-01j,\n",
       "       -8.42849409e-01+3.98638082e-01j, -8.42429127e-01+3.92132147e-01j,\n",
       "       -8.42018410e-01+3.85672794e-01j, -8.41617062e-01+3.79258895e-01j,\n",
       "       -8.41224889e-01+3.72889348e-01j, -8.40841707e-01+3.66563074e-01j,\n",
       "       -8.40467335e-01+3.60279022e-01j, -8.40101601e-01+3.54036164e-01j,\n",
       "       -8.39744335e-01+3.47833493e-01j, -8.39395376e-01+3.41670025e-01j,\n",
       "       -8.39054565e-01+3.35544800e-01j, -8.38721750e-01+3.29456874e-01j,\n",
       "       -8.38396783e-01+3.23405327e-01j, -8.38079521e-01+3.17389255e-01j,\n",
       "       -8.37769826e-01+3.11407776e-01j, -8.37467563e-01+3.05460023e-01j,\n",
       "       -8.37172603e-01+2.99545147e-01j, -8.36884820e-01+2.93662317e-01j,\n",
       "       -8.36604093e-01+2.87810716e-01j, -8.36330303e-01+2.81989546e-01j,\n",
       "       -8.36063337e-01+2.76198019e-01j, -8.35803085e-01+2.70435367e-01j,\n",
       "       -8.35549439e-01+2.64700831e-01j, -8.35302296e-01+2.58993670e-01j,\n",
       "       -8.35061557e-01+2.53313154e-01j, -8.34827124e-01+2.47658564e-01j,\n",
       "       -8.34598904e-01+2.42029197e-01j, -8.34376807e-01+2.36424359e-01j,\n",
       "       -8.34160744e-01+2.30843367e-01j, -8.33950632e-01+2.25285552e-01j,\n",
       "       -8.33746389e-01+2.19750252e-01j, -8.33547935e-01+2.14236818e-01j,\n",
       "       -8.33355194e-01+2.08744609e-01j, -8.33168093e-01+2.03272995e-01j,\n",
       "       -8.32986559e-01+1.97821354e-01j, -8.32810526e-01+1.92389073e-01j,\n",
       "       -8.32639926e-01+1.86975548e-01j, -8.32474695e-01+1.81580183e-01j,\n",
       "       -8.32314772e-01+1.76202389e-01j, -8.32160098e-01+1.70841586e-01j,\n",
       "       -8.32010615e-01+1.65497201e-01j, -8.31866269e-01+1.60168667e-01j,\n",
       "       -8.31727007e-01+1.54855425e-01j, -8.31592777e-01+1.49556921e-01j,\n",
       "       -8.31463532e-01+1.44272609e-01j, -8.31339225e-01+1.39001947e-01j,\n",
       "       -8.31219811e-01+1.33744400e-01j, -8.31105247e-01+1.28499438e-01j,\n",
       "       -8.30995492e-01+1.23266537e-01j, -8.30890507e-01+1.18045176e-01j,\n",
       "       -8.30790255e-01+1.12834841e-01j, -8.30694701e-01+1.07635021e-01j,\n",
       "       -8.30603810e-01+1.02445209e-01j, -8.30517551e-01+9.72649036e-02j,\n",
       "       -8.30435894e-01+9.20936064e-02j, -8.30358810e-01+8.69308223e-02j,\n",
       "       -8.30286272e-01+8.17760601e-02j, -8.30218254e-01+7.66288315e-02j,\n",
       "       -8.30154734e-01+7.14886514e-02j, -8.30095689e-01+6.63550374e-02j,\n",
       "       -8.30041099e-01+6.12275098e-02j, -8.29990945e-01+5.61055912e-02j,\n",
       "       -8.29945210e-01+5.09888065e-02j, -8.29903877e-01+4.58766826e-02j,\n",
       "       -8.29866934e-01+4.07687482e-02j, -8.29834366e-01+3.56645336e-02j,\n",
       "       -8.29806163e-01+3.05635708e-02j, -8.29782315e-01+2.54653928e-02j,\n",
       "       -8.29762815e-01+2.03695338e-02j, -8.29747654e-01+1.52755289e-02j,\n",
       "       -8.29736829e-01+1.01829140e-02j, -8.29730336e-01+5.09122547e-03j,\n",
       "       -8.29728172e-01-5.08061975e-17j, -8.29730336e-01-5.09122547e-03j,\n",
       "       -8.29736829e-01-1.01829140e-02j, -8.29747654e-01-1.52755289e-02j,\n",
       "       -8.29762815e-01-2.03695338e-02j, -8.29782315e-01-2.54653928e-02j,\n",
       "       -8.29806163e-01-3.05635708e-02j, -8.29834366e-01-3.56645336e-02j,\n",
       "       -8.29866934e-01-4.07687482e-02j, -8.29903877e-01-4.58766826e-02j,\n",
       "       -8.29945210e-01-5.09888065e-02j, -8.29990945e-01-5.61055912e-02j,\n",
       "       -8.30041099e-01-6.12275098e-02j, -8.30095689e-01-6.63550374e-02j,\n",
       "       -8.30154734e-01-7.14886514e-02j, -8.30218254e-01-7.66288315e-02j,\n",
       "       -8.30286272e-01-8.17760601e-02j, -8.30358810e-01-8.69308223e-02j,\n",
       "       -8.30435894e-01-9.20936064e-02j, -8.30517551e-01-9.72649036e-02j,\n",
       "       -8.30603810e-01-1.02445209e-01j, -8.30694701e-01-1.07635021e-01j,\n",
       "       -8.30790255e-01-1.12834841e-01j, -8.30890507e-01-1.18045176e-01j,\n",
       "       -8.30995492e-01-1.23266537e-01j, -8.31105247e-01-1.28499438e-01j,\n",
       "       -8.31219811e-01-1.33744400e-01j, -8.31339225e-01-1.39001947e-01j,\n",
       "       -8.31463532e-01-1.44272609e-01j, -8.31592777e-01-1.49556921e-01j,\n",
       "       -8.31727007e-01-1.54855425e-01j, -8.31866269e-01-1.60168667e-01j,\n",
       "       -8.32010615e-01-1.65497201e-01j, -8.32160098e-01-1.70841586e-01j,\n",
       "       -8.32314772e-01-1.76202389e-01j, -8.32474695e-01-1.81580183e-01j,\n",
       "       -8.32639926e-01-1.86975548e-01j, -8.32810526e-01-1.92389073e-01j,\n",
       "       -8.32986559e-01-1.97821354e-01j, -8.33168093e-01-2.03272995e-01j,\n",
       "       -8.33355194e-01-2.08744609e-01j, -8.33547935e-01-2.14236818e-01j,\n",
       "       -8.33746389e-01-2.19750252e-01j, -8.33950632e-01-2.25285552e-01j,\n",
       "       -8.34160744e-01-2.30843367e-01j, -8.34376807e-01-2.36424359e-01j,\n",
       "       -8.34598904e-01-2.42029197e-01j, -8.34827124e-01-2.47658564e-01j,\n",
       "       -8.35061557e-01-2.53313154e-01j, -8.35302296e-01-2.58993670e-01j,\n",
       "       -8.35549439e-01-2.64700831e-01j, -8.35803085e-01-2.70435367e-01j,\n",
       "       -8.36063337e-01-2.76198019e-01j, -8.36330303e-01-2.81989546e-01j,\n",
       "       -8.36604093e-01-2.87810716e-01j, -8.36884820e-01-2.93662317e-01j,\n",
       "       -8.37172603e-01-2.99545147e-01j, -8.37467563e-01-3.05460023e-01j,\n",
       "       -8.37769826e-01-3.11407776e-01j, -8.38079521e-01-3.17389255e-01j,\n",
       "       -8.38396783e-01-3.23405327e-01j, -8.38721750e-01-3.29456874e-01j,\n",
       "       -8.39054565e-01-3.35544800e-01j, -8.39395376e-01-3.41670025e-01j,\n",
       "       -8.39744335e-01-3.47833493e-01j, -8.40101601e-01-3.54036164e-01j,\n",
       "       -8.40467335e-01-3.60279022e-01j, -8.40841707e-01-3.66563074e-01j,\n",
       "       -8.41224889e-01-3.72889348e-01j, -8.41617062e-01-3.79258895e-01j,\n",
       "       -8.42018410e-01-3.85672794e-01j, -8.42429127e-01-3.92132147e-01j,\n",
       "       -8.42849409e-01-3.98638082e-01j, -8.43279462e-01-4.05191757e-01j,\n",
       "       -8.43719498e-01-4.11794356e-01j, -8.44169735e-01-4.18447093e-01j,\n",
       "       -8.44630399e-01-4.25151215e-01j, -8.45101725e-01-4.31907997e-01j,\n",
       "       -8.45583955e-01-4.38718750e-01j, -8.46077338e-01-4.45584817e-01j,\n",
       "       -8.46582135e-01-4.52507579e-01j, -8.47098613e-01-4.59488451e-01j,\n",
       "       -8.47627049e-01-4.66528889e-01j, -8.48167730e-01-4.73630387e-01j,\n",
       "       -8.48720954e-01-4.80794482e-01j, -8.49287029e-01-4.88022752e-01j,\n",
       "       -8.49866273e-01-4.95316822e-01j, -8.50459016e-01-5.02678361e-01j,\n",
       "       -8.51065600e-01-5.10109090e-01j, -8.51686380e-01-5.17610776e-01j,\n",
       "       -8.52321724e-01-5.25185242e-01j, -8.52972012e-01-5.32834363e-01j,\n",
       "       -8.53637640e-01-5.40560074e-01j, -8.54319017e-01-5.48364366e-01j,\n",
       "       -8.55016569e-01-5.56249294e-01j, -8.55730736e-01-5.64216976e-01j,\n",
       "       -8.56461978e-01-5.72269598e-01j, -8.57210769e-01-5.80409416e-01j,\n",
       "       -8.57977604e-01-5.88638758e-01j, -8.58762996e-01-5.96960032e-01j,\n",
       "       -8.59567479e-01-6.05375721e-01j, -8.60391607e-01-6.13888393e-01j,\n",
       "       -8.61235957e-01-6.22500706e-01j, -8.62101129e-01-6.31215406e-01j,\n",
       "       -8.62987748e-01-6.40035335e-01j, -8.63896463e-01-6.48963434e-01j,\n",
       "       -8.64827950e-01-6.58002751e-01j, -8.65782916e-01-6.67156442e-01j,\n",
       "       -8.66762093e-01-6.76427776e-01j, -8.67766248e-01-6.85820146e-01j,\n",
       "       -8.68796180e-01-6.95337069e-01j, -8.69852720e-01-7.04982193e-01j,\n",
       "       -8.70936738e-01-7.14759309e-01j, -8.72049141e-01-7.24672350e-01j,\n",
       "       -8.73190878e-01-7.34725406e-01j, -8.74362938e-01-7.44922727e-01j,\n",
       "       -8.75566356e-01-7.55268732e-01j, -8.76802215e-01-7.65768022e-01j,\n",
       "       -8.78071647e-01-7.76425384e-01j, -8.79375838e-01-7.87245805e-01j,\n",
       "       -8.80716030e-01-7.98234481e-01j, -8.82093524e-01-8.09396831e-01j,\n",
       "       -8.83509683e-01-8.20738506e-01j, -8.84965938e-01-8.32265405e-01j,\n",
       "       -8.86463790e-01-8.43983689e-01j, -8.88004815e-01-8.55899795e-01j,\n",
       "       -8.89590669e-01-8.68020452e-01j, -8.91223092e-01-8.80352702e-01j,\n",
       "       -8.92903915e-01-8.92903915e-01j, -8.94635064e-01-9.05681809e-01j,\n",
       "       -8.96418569e-01-9.18694476e-01j, -8.98256568e-01-9.31950401e-01j,\n",
       "       -9.00151313e-01-9.45458491e-01j, -9.02105185e-01-9.59228099e-01j,\n",
       "       -9.04120695e-01-9.73269054e-01j, -9.06200496e-01-9.87591697e-01j,\n",
       "       -9.08347394e-01-1.00220691e+00j, -9.10564360e-01-1.01712615e+00j,\n",
       "       -9.12854537e-01-1.03236152e+00j, -9.15221259e-01-1.04792575e+00j,\n",
       "       -9.17668061e-01-1.06383231e+00j, -9.20198698e-01-1.08009543e+00j,\n",
       "       -9.22817157e-01-1.09673018e+00j, -9.25527683e-01-1.11375247e+00j,\n",
       "       -9.28334790e-01-1.13117921e+00j, -9.31243293e-01-1.14902833e+00j,\n",
       "       -9.34258325e-01-1.16731884e+00j, -9.37385369e-01-1.18607100e+00j,\n",
       "       -9.40630285e-01-1.20530632e+00j, -9.43999346e-01-1.22504776e+00j,\n",
       "       -9.47499270e-01-1.24531980e+00j, -9.51137267e-01-1.26614856e+00j,\n",
       "       -9.54921080e-01-1.28756203e+00j, -9.58859033e-01-1.30959011e+00j,\n",
       "       -9.62960096e-01-1.33226493e+00j, -9.67233938e-01-1.35562094e+00j,\n",
       "       -9.71691004e-01-1.37969522e+00j, -9.76342592e-01-1.40452768e+00j,\n",
       "       -9.81200940e-01-1.43016140e+00j, -9.86279331e-01-1.45664292e+00j,\n",
       "       -9.91592205e-01-1.48402261e+00j, -9.97155286e-01-1.51235511e+00j,\n",
       "       -1.00298573e+00-1.54169979e+00j, -1.00910231e+00-1.57212129e+00j,\n",
       "       -1.01552556e+00-1.60369011e+00j, -1.02227807e+00-1.63648339e+00j,\n",
       "       -1.02938467e+00-1.67058563e+00j, -1.03687276e+00-1.70608969e+00j,\n",
       "       -1.04477267e+00-1.74309789e+00j, -1.05311801e+00-1.78172321e+00j,\n",
       "       -1.06194619e+00-1.82209085e+00j, -1.07129893e+00-1.86433990e+00j,\n",
       "       -1.08122296e+00-1.90862544e+00j, -1.09177074e+00-1.95512098e+00j,\n",
       "       -1.10300142e+00-2.00402132e+00j, -1.11498196e+00-2.05554606e+00j,\n",
       "       -1.12778846e+00-2.10994380e+00j, -1.14150778e+00-2.16749724e+00j,\n",
       "       -1.15623960e+00-2.22852944e+00j, -1.17209885e+00-2.29341149e+00j,\n",
       "       -1.18921884e+00-2.36257206e+00j, -1.20775509e+00-2.43650945e+00j,\n",
       "       -1.22789031e+00-2.51580670e+00j, -1.24984065e+00-2.60115101e+00j,\n",
       "       -1.27386387e+00-2.69335885e+00j, -1.30027007e+00-2.79340878e+00j,\n",
       "       -1.32943593e+00-2.90248508e+00j, -1.36182388e+00-3.02203646e+00j,\n",
       "       -1.39800845e+00-3.15385652e+00j, -1.43871311e+00-3.30019600e+00j,\n",
       "       -1.48486278e+00-3.46392265e+00j, -1.53766045e+00-3.64875437e+00j,\n",
       "       -1.59870214e+00-3.85960840e+00j, -1.67015466e+00-4.10314044e+00j,\n",
       "       -1.75504016e+00-4.38860761e+00j, -1.85771166e+00-4.72930843e+00j,\n",
       "       -1.98468789e+00-5.14510989e+00j, -2.14621180e+00-5.66716146e+00j,\n",
       "       -2.35938985e+00-6.34738684e+00j, -2.65516965e+00-7.27957273e+00j,\n",
       "       -3.09604383e+00-8.65286285e+00j, -3.83037893e+00-1.09158915e+01j,\n",
       "       -5.31840866e+00-1.54594746e+01j, -1.00676102e+01-2.98587222e+01j,\n",
       "        7.79496750e+01+2.35957034e+02j,  6.12408341e+00+1.89269912e+01j,\n",
       "        2.60080118e+00+8.20963785e+00j,  1.30819926e+00+4.21918360e+00j,\n",
       "        6.03308998e-01+1.98884323e+00j,  1.26099710e-01+4.25066900e-01j,\n",
       "       -2.55459906e-01-8.80912550e-01j, -6.12879235e-01-2.16294219e+00j,\n",
       "       -1.00990068e+00-3.64931215e+00j, -1.54860284e+00-5.73253946e+00j,\n",
       "       -2.50574435e+00-9.50695294e+00j, -5.31520876e+00-2.06802982e+01j,\n",
       "        6.15470105e+01+2.45709439e+02j,  4.26299682e+00+1.74730191e+01j,\n",
       "        2.04457817e+00+8.60931391e+00j,  1.22724315e+00+5.31246916e+00j,\n",
       "        7.78085563e-01+3.46497236e+00j,  4.74663759e-01+2.17614919e+00j,\n",
       "        2.36671909e-01+1.11795037e+00j,  2.22411083e-02+1.08335232e-01j,\n",
       "       -2.03260031e-01-1.02185718e+00j, -4.91338283e-01-2.55185831e+00j,\n",
       "       -9.76149709e-01-5.24289075e+00j, -2.33295467e+00-1.29721061e+01j,\n",
       "        4.37835080e+01+2.52330574e+02j,  2.37428808e+00+1.42000803e+01j,\n",
       "        1.23537318e+00+7.67782919e+00j,  8.23118083e-01+5.32374123e+00j,\n",
       "        6.02408389e-01+4.06110748e+00j,  4.61146045e-01+3.24589182e+00j,\n",
       "        3.61014285e-01+2.65810762e+00j,  2.85236268e-01+2.20136768e+00j,\n",
       "        2.25232066e-01+1.82613335e+00j,  1.76105513e-01+1.50371526e+00j,\n",
       "        1.34813893e-01+1.21565764e+00j,  9.93194734e-02+9.48694577e-01j,\n",
       "        6.81470210e-02+6.91908316e-01j,  4.01171814e-02+4.34640795e-01j,\n",
       "        1.41404214e-02+1.64204214e-01j, -1.10243843e-02-1.37914079e-01j,\n",
       "       -3.72222738e-02-5.04610054e-01j, -6.81389985e-02-1.00800563e+00j,\n",
       "       -1.14149001e-01-1.85800419e+00j, -2.26485964e-01-4.09710486e+00j,\n",
       "        1.25436807e+01+2.55332486e+02j,  1.45891778e-01+3.39457717e+00j,\n",
       "        3.60712642e-02+9.79340980e-01j, -2.52041483e-02-8.21269743e-01j,\n",
       "        6.29986553e+00+2.56628071e+02j,  4.36922503e-02+2.37330847e+00j,\n",
       "        1.33433155e-02+1.08725658e+00j,  2.88995074e-03+4.70982834e-01j])"
      ]
     },
     "execution_count": 167,
     "metadata": {},
     "output_type": "execute_result"
    }
   ],
   "source": [
    "fft(apply_linspace(signal1))"
   ]
  },
  {
   "cell_type": "code",
   "execution_count": 154,
   "metadata": {
    "scrolled": false
   },
   "outputs": [
    {
     "data": {
      "image/png": "[encoded data removed]",
      "text/plain": [
       "<Figure size 720x720 with 1 Axes>"
      ]
     },
     "metadata": {
      "needs_background": "light"
     },
     "output_type": "display_data"
    }
   ],
   "source": [
    "show_sig(np.real(np.fft.fft(apply_linspace(signal1))), linspace=False)"
   ]
  },
  {
   "cell_type": "code",
   "execution_count": 145,
   "metadata": {},
   "outputs": [
    {
     "data": {
      "image/png": "[encoded data removed]",
      "text/plain": [
       "<Figure size 720x720 with 1 Axes>"
      ]
     },
     "metadata": {
      "needs_background": "light"
     },
     "output_type": "display_data"
    }
   ],
   "source": [
    "show_sig(np.imag(np.fft.fft(apply_linspace(signal1))), linspace=False)"
   ]
  },
  {
   "cell_type": "markdown",
   "metadata": {},
   "source": [
    "Sygnał będący sumą interwałów "
   ]
  },
  {
   "cell_type": "code",
   "execution_count": 142,
   "metadata": {
    "scrolled": false
   },
   "outputs": [
    {
     "data": {
      "image/png": "[encoded data removed]",
      "text/plain": [
       "<Figure size 720x720 with 1 Axes>"
      ]
     },
     "metadata": {
      "needs_background": "light"
     },
     "output_type": "display_data"
    }
   ],
   "source": [
    "show_sig(np.real(np.fft.fft(apply_linspace(signal2))), linspace=False)"
   ]
  },
  {
   "cell_type": "code",
   "execution_count": 146,
   "metadata": {},
   "outputs": [
    {
     "data": {
      "image/png": "[encoded data removed]",
      "text/plain": [
       "<Figure size 720x720 with 1 Axes>"
      ]
     },
     "metadata": {
      "needs_background": "light"
     },
     "output_type": "display_data"
    }
   ],
   "source": [
    "show_sig(np.imag(np.fft.fft(apply_linspace(signal2))), linspace=False)"
   ]
  }
 ],
 "metadata": {
  "kernelspec": {
   "display_name": "Python 3",
   "language": "python",
   "name": "python3"
  },
  "language_info": {
   "codemirror_mode": {
    "name": "ipython",
    "version": 3
   },
   "file_extension": ".py",
   "mimetype": "text/x-python",
   "name": "python",
   "nbconvert_exporter": "python",
   "pygments_lexer": "ipython3",
   "version": "3.8.3"
  }
 },
 "nbformat": 4,
 "nbformat_minor": 4
}
